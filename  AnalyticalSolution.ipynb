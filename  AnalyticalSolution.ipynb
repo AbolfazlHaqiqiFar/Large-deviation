{
 "cells": [
  {
   "cell_type": "code",
   "execution_count": 2,
   "metadata": {},
   "outputs": [],
   "source": [
    "import numpy as np\n",
    "import matplotlib.pyplot as plt"
   ]
  },
  {
   "cell_type": "code",
   "execution_count": 6,
   "metadata": {},
   "outputs": [
    {
     "name": "stdout",
     "output_type": "stream",
     "text": [
      "[-1.3861581706049524, -1.3859242002256285, -1.3852884793049636, -1.3835624502921295, -1.3788856172356088, -1.3662821077602636, -1.3328039114139572, -1.2470880469004342, -1.0455414072067595, -0.6426259804912112, -1.1102230246251565e-16, 0.8279889392428695, 1.756441755647254, 2.7287774134124625, 3.7184045792072995, 4.714561391433149, 5.713143837116552, 6.7126218420167225, 7.712429742172699, 8.712359063303495, 9.712333060743633]\n"
     ]
    },
    {
     "data": {
      "image/png": "[encoded data removed]",
      "text/plain": [
       "<Figure size 432x288 with 1 Axes>"
      ]
     },
     "metadata": {
      "needs_background": "light"
     },
     "output_type": "display_data"
    }
   ],
   "source": [
    "mus , lAmbda= [], []\n",
    "for Lambda in range(-10, 11):\n",
    "\n",
    "    T = 10\n",
    "    alpha = 0.75\n",
    "    U = np.matrix([[1-  alpha , alpha], [ alpha, 1 - alpha ]])\n",
    "    Utilde = np.matrix([[1-  alpha , alpha* np.exp(Lambda) ], [ alpha * np.exp(Lambda), 1 - alpha ]])\n",
    "    mus.append(np.log(np.max(np.linalg.eigvals(Utilde))))\n",
    "    lAmbda.append(Lambda)\n",
    "\n",
    "plt.grid()\n",
    "plt.scatter(lAmbda, mus)\n",
    "plt.savefig('ASOutput.jpg')\n",
    "print(mus)"
   ]
  },
  {
   "cell_type": "code",
   "execution_count": null,
   "metadata": {},
   "outputs": [],
   "source": []
  }
 ],
 "metadata": {
  "interpreter": {
   "hash": "916dbcbb3f70747c44a77c7bcd40155683ae19c65e1c03b4aa3499c5328201f1"
  },
  "kernelspec": {
   "display_name": "Python 3.8.5 64-bit",
   "language": "python",
   "name": "python3"
  },
  "language_info": {
   "codemirror_mode": {
    "name": "ipython",
    "version": 3
   },
   "file_extension": ".py",
   "mimetype": "text/x-python",
   "name": "python",
   "nbconvert_exporter": "python",
   "pygments_lexer": "ipython3",
   "version": "3.8.10"
  },
  "orig_nbformat": 4
 },
 "nbformat": 4,
 "nbformat_minor": 2
}
