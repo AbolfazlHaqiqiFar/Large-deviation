{
 "cells": [
  {
   "cell_type": "code",
   "execution_count": 33,
   "metadata": {},
   "outputs": [],
   "source": [
    "import numpy as np\n",
    "import matplotlib.pyplot as plt\n",
    "import math\n",
    "\n",
    "C = np.array([5000, 1000])\n",
    "dim = 2\n",
    "\n",
    "C = np.array([5000, 1000])\n",
    "Cprime = np.zeros(dim)\n",
    "LAmbda = []\n",
    "alpha = 0.75\n",
    "T = 10\n",
    "Uprime = np.zeros((dim , dim))\n",
    "k, Utilde = np.zeros((dim, dim)),  np.zeros((dim, dim))\n",
    "\n",
    "#Utilde = np.matrix([[1-  alpha , alpha* np.exp(Lambda) ], [ alpha * np.exp(Lambda), 1 - alpha ]])\n",
    "for i in range(dim):\n",
    "    prob = np.random.rand()\n",
    "    Utilde[i][i] =1 - prob\n",
    "    Utilde[(i+1)%dim][i] = prob\n",
    "    #Utilde = np.matrix.transpose(Utilde)"
   ]
  },
  {
   "cell_type": "code",
   "execution_count": 34,
   "metadata": {},
   "outputs": [
    {
     "name": "stdout",
     "output_type": "stream",
     "text": [
      "[9.159044452707061, 8.517353170418769, 8.517703027995292, 8.519191029736888, 8.521185048997848, 8.52317510005606, 8.525161198674022, 8.52714336052051, 8.529121601171308, 8.531095936109944, 8.533066380728412] [0, 1, 2, 3, 4, 5, 6, 7, 8, 9, 10]\n"
     ]
    }
   ],
   "source": [
    "mus = []\n",
    "for Lambda in range(0, 11):\n",
    "    LAmbda.append(Lambda)\n",
    "    Uprime = Utilde\n",
    "    Rand =np.random.randint(0, dim)\n",
    "    Uprime[(Rand+1)%dim][Rand] = Uprime[(Rand+1)%dim][Rand] * np.exp(Lambda)\n",
    "    Mt = []\n",
    "    for w in range(10):\n",
    "        c = np.zeros(dim)\n",
    "        num = np.zeros(dim)\n",
    "        D = [c[0], c[1]]\n",
    "        for y in np.arange(0, dim):\n",
    "            for z in np.arange(0, dim):\n",
    "                if z != y :\n",
    "                    if Uprime[y][z] > np.random.random():\n",
    "                        num[y] += 1\n",
    "                        c[z] = C[z] - 1\n",
    "                        Cprime[y] = num[y] + D[y]                \n",
    "        for o in np.arange(0, 2):\n",
    "            if k[o, o] - math.floor(k[o, o]) > np.random.random() :\n",
    "                c[o] = C[o]+ math.floor(k[o, o]) + 1\n",
    "            else:\n",
    "                c[o] = C[o] + math.floor(k[o, o]) -1\n",
    "                C[o] = C[0] + num[0]\n",
    "        Mt.append(sum(c)/ sum(Cprime))\n",
    "    mus.append(np.log(np.prod(Mt)) / T)\n",
    "len(mus)\n",
    "print(mus, LAmbda)\n",
    "    "
   ]
  },
  {
   "cell_type": "code",
   "execution_count": 35,
   "metadata": {},
   "outputs": [
    {
     "data": {
      "text/plain": [
       "[<matplotlib.lines.Line2D at 0x7f6d7e7d5340>]"
      ]
     },
     "execution_count": 35,
     "metadata": {},
     "output_type": "execute_result"
    },
    {
     "data": {
      "image/png": "[encoded data removed]",
      "text/plain": [
       "<Figure size 432x288 with 1 Axes>"
      ]
     },
     "metadata": {
      "needs_background": "light"
     },
     "output_type": "display_data"
    }
   ],
   "source": [
    "plt.plot(LAmbda, mus)"
   ]
  },
  {
   "cell_type": "code",
   "execution_count": 17,
   "metadata": {},
   "outputs": [
    {
     "data": {
      "text/plain": [
       "[]"
      ]
     },
     "execution_count": 17,
     "metadata": {},
     "output_type": "execute_result"
    }
   ],
   "source": [
    "m = [1, 2, 5]\n",
    "m = []\n",
    "m"
   ]
  },
  {
   "cell_type": "code",
   "execution_count": null,
   "metadata": {},
   "outputs": [],
   "source": []
  }
 ],
 "metadata": {
  "interpreter": {
   "hash": "916dbcbb3f70747c44a77c7bcd40155683ae19c65e1c03b4aa3499c5328201f1"
  },
  "kernelspec": {
   "display_name": "Python 3.8.5 64-bit",
   "language": "python",
   "name": "python3"
  },
  "language_info": {
   "codemirror_mode": {
    "name": "ipython",
    "version": 3
   },
   "file_extension": ".py",
   "mimetype": "text/x-python",
   "name": "python",
   "nbconvert_exporter": "python",
   "pygments_lexer": "ipython3",
   "version": "3.8.10"
  },
  "orig_nbformat": 4
 },
 "nbformat": 4,
 "nbformat_minor": 2
}
